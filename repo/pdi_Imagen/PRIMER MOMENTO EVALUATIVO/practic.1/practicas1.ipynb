{
 "cells": [
  {
   "cell_type": "markdown",
   "metadata": {},
   "source": [
    "1.- Desarrolle una aplicación que calcule el factorial de un numero entero introducido por \n",
    "teclado "
   ]
  },
  {
   "cell_type": "code",
   "execution_count": 3,
   "metadata": {},
   "outputs": [
    {
     "name": "stdout",
     "output_type": "stream",
     "text": [
      "El factorial de 5 es 120\n"
     ]
    }
   ],
   "source": [
    "def factorial(n):\n",
    "    if n == 0:\n",
    "        return 1\n",
    "    else:\n",
    "        return n * factorial(n-1)\n",
    "\n",
    "num = int(input(\"Ingrese un número entero: \"))\n",
    "    \n",
    "print(\"El factorial de\", num, \"es\", factorial(num))\n"
   ]
  },
  {
   "cell_type": "markdown",
   "metadata": {},
   "source": [
    "2.- Desarrolle una aplicación que determine si un numero introducido por teclado es primo o \n",
    "no"
   ]
  },
  {
   "cell_type": "code",
   "execution_count": 24,
   "metadata": {},
   "outputs": [
    {
     "name": "stdout",
     "output_type": "stream",
     "text": [
      "11 es un número primo.\n"
     ]
    }
   ],
   "source": [
    "\n"
   ]
  },
  {
   "cell_type": "markdown",
   "metadata": {},
   "source": [
    "3.- Desarrolle una aplicación que permita ingresar diferentes números por teclado con un limite \n",
    "definido inicialmente (no menor a 3 números) y determine cual de ellos es el mayor y el menor."
   ]
  },
  {
   "cell_type": "code",
   "execution_count": 10,
   "metadata": {},
   "outputs": [
    {
     "name": "stdout",
     "output_type": "stream",
     "text": [
      "El número mayor es: 9.0\n",
      "El número menor es: 7.0\n"
     ]
    }
   ],
   "source": [
    "num = []\n",
    "fin = int(input(\"Ingrese el límite de números (no menor a 3): \"))\n",
    "for i in range(fin):\n",
    "    x = float(input(\"Ingrese un número: \"))\n",
    "    num.append(x)\n",
    "\n",
    "print(\"El número mayor es:\", max(num))\n",
    "print(\"El número menor es:\", min(num))\n"
   ]
  },
  {
   "cell_type": "markdown",
   "metadata": {},
   "source": [
    "4.- Desarrolle una aplicación que permita identificar si una cadena introducida por teclado es \n",
    "un palíndromo ( oso es palíndromo )"
   ]
  },
  {
   "cell_type": "code",
   "execution_count": null,
   "metadata": {},
   "outputs": [],
   "source": []
  },
  {
   "cell_type": "markdown",
   "metadata": {},
   "source": [
    "5.- desarrolle una aplicación que permita introducir 7 números por teclado y determine cual de \n",
    "ellos se repite más veces y cuantas."
   ]
  },
  {
   "cell_type": "code",
   "execution_count": 11,
   "metadata": {},
   "outputs": [
    {
     "name": "stdout",
     "output_type": "stream",
     "text": [
      "El número 7 se repite 2 veces.\n"
     ]
    }
   ],
   "source": [
    "num = []\n",
    "for i in range(7):\n",
    "    numero = int(input(\"ingrese un número: \"))\n",
    "    num.append(numero)\n",
    "\n",
    "numrep = max(set(num), key=num.count)\n",
    "rep = num.count(numrep)\n",
    "\n",
    "print(\"El número\", numrep, \"se repite\", rep, \"veces.\")\n"
   ]
  },
  {
   "cell_type": "markdown",
   "metadata": {},
   "source": [
    "6.- Desarrolla una aplicación que permita identificar si una palabra es un anagrama de otra \n",
    "(Bolo -Lobo)"
   ]
  },
  {
   "cell_type": "code",
   "execution_count": 1,
   "metadata": {},
   "outputs": [
    {
     "name": "stdout",
     "output_type": "stream",
     "text": [
      "Las palabras son anagramas.\n"
     ]
    }
   ],
   "source": [
    "x = input(\"ingrese la primera palabra: \").lower()\n",
    "y = input(\"ingrese la segunda palabra: \").lower()\n",
    "\n",
    "if sorted(x) == sorted(y):\n",
    "    print(\"Las palabras son anagramas.\")\n",
    "else:\n",
    "    print(\"Las palabras no son anagramas.\")\n"
   ]
  },
  {
   "cell_type": "markdown",
   "metadata": {},
   "source": [
    "7.- Desarrolla una aplicación que ordene números a través del método burbuja."
   ]
  },
  {
   "cell_type": "code",
   "execution_count": null,
   "metadata": {},
   "outputs": [],
   "source": []
  }
 ],
 "metadata": {
  "kernelspec": {
   "display_name": "env-MiNuevoEntorno",
   "language": "python",
   "name": "python3"
  },
  "language_info": {
   "codemirror_mode": {
    "name": "ipython",
    "version": 3
   },
   "file_extension": ".py",
   "mimetype": "text/x-python",
   "name": "python",
   "nbconvert_exporter": "python",
   "pygments_lexer": "ipython3",
   "version": "3.12.1"
  }
 },
 "nbformat": 4,
 "nbformat_minor": 2
}
