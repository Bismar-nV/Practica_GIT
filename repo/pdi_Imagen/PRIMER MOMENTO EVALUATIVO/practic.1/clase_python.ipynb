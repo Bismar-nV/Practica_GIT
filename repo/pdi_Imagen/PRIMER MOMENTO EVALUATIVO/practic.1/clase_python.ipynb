{
 "cells": [
  {
   "cell_type": "code",
   "execution_count": 3,
   "metadata": {},
   "outputs": [
    {
     "name": "stdout",
     "output_type": "stream",
     "text": [
      "holab sese\n"
     ]
    }
   ],
   "source": [
    "print(\"holab sese\")"
   ]
  },
  {
   "cell_type": "markdown",
   "metadata": {},
   "source": [
    "realizar un ejercico que calcule el area y perimetro  de un objeto "
   ]
  },
  {
   "cell_type": "code",
   "execution_count": 3,
   "metadata": {},
   "outputs": [],
   "source": [
    "a=float(input(\"num1\"))\n",
    "b=float(input(\"num2\"))\n",
    "suma= a+b\n",
    "print(\"suma\")"
   ]
  },
  {
   "cell_type": "code",
   "execution_count": null,
   "metadata": {},
   "outputs": [],
   "source": [
    "a=input(\"introduzca \")\n",
    "b=int(input(\"num2\"))\n",
    "print((a+\"\")*b)"
   ]
  },
  {
   "cell_type": "markdown",
   "metadata": {},
   "source": [
    "realizar codigo en python que permita itroducir una palabra por teclado identificacion sus vocales y las convierte en mayuscula"
   ]
  },
  {
   "cell_type": "code",
   "execution_count": 2,
   "metadata": {},
   "outputs": [
    {
     "name": "stdout",
     "output_type": "stream",
     "text": [
      "La palabra con las vocales en mayúsculas es: bIsmAr\n"
     ]
    }
   ],
   "source": [
    "def convertir_vocales_mayusculas(palabra):\n",
    "    vocales = ['a', 'e', 'i', 'o', 'u']\n",
    "    palabra = palabra.lower()\n",
    "    resultado = ''\n",
    "    for letra in palabra:\n",
    "        if letra in vocales:\n",
    "            resultado += letra.upper()\n",
    "        else:\n",
    "            resultado += letra    \n",
    "    return resultado\n",
    "palabra_usuario = input(\"Introduce una palabra: \")\n",
    "resultado = convertir_vocales_mayusculas(palabra_usuario)\n",
    "print(\"La palabra con las vocales en mayúsculas es:\", resultado)"
   ]
  },
  {
   "cell_type": "code",
   "execution_count": null,
   "metadata": {},
   "outputs": [],
   "source": [
    "from PIL import Image\n",
    "from matplotlib import pyplot as plt\n",
    "from collections import Counter\n",
    "from scipy import ndimage as ndi\n",
    "from skimage import feature\n",
    "import scipy.misc\n",
    "import numpy as np\n",
    "import statistics\n",
    "import random\n",
    "import scipy\n"
   ]
  }
 ],
 "metadata": {
  "kernelspec": {
   "display_name": "env-MiNuevoEntorno",
   "language": "python",
   "name": "python3"
  },
  "language_info": {
   "codemirror_mode": {
    "name": "ipython",
    "version": 3
   },
   "file_extension": ".py",
   "mimetype": "text/x-python",
   "name": "python",
   "nbconvert_exporter": "python",
   "pygments_lexer": "ipython3",
   "version": "3.12.1"
  }
 },
 "nbformat": 4,
 "nbformat_minor": 2
}
